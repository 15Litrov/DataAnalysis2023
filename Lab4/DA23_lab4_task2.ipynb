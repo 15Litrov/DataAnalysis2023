{
  "nbformat": 4,
  "nbformat_minor": 0,
  "metadata": {
    "colab": {
      "provenance": []
    },
    "kernelspec": {
      "name": "python3",
      "display_name": "Python 3"
    },
    "language_info": {
      "name": "python"
    }
  },
  "cells": [
    {
      "cell_type": "code",
      "source": [
        "from transformers import pipeline"
      ],
      "metadata": {
        "id": "00EC4iWkurXh"
      },
      "execution_count": 2,
      "outputs": []
    },
    {
      "cell_type": "markdown",
      "source": [
        "# Summarization (SGaleshchuk/t5-large-ua-news)\n",
        "link: https://huggingface.co/SGaleshchuk/t5-large-ua-news"
      ],
      "metadata": {
        "id": "QZew6oaKmqa2"
      }
    },
    {
      "cell_type": "code",
      "source": [
        "summarizer = pipeline(\"summarization\", \"SGaleshchuk/t5-large-ua-news\")\n",
        "\n",
        "text = \"Формула-1 (F1) - це найвищий клас міжнародних автомобільних гонок, який залучає найбільш технічно розвинені та швидкі боліди. Офіційний чемпіонат F1 вперше стартував у 1950 році і став одним із найпопулярніших та найпрестижніших моторспортивних подій у світі.\"\n",
        "summary = summarizer(text, min_length=3, max_length = 16)\n",
        "print(summary)"
      ],
      "metadata": {
        "colab": {
          "base_uri": "https://localhost:8080/"
        },
        "id": "vkP42l_htMov",
        "outputId": "2677060a-5570-4bf7-9c77-080c1188e24a"
      },
      "execution_count": 1,
      "outputs": [
        {
          "output_type": "stream",
          "name": "stderr",
          "text": [
            "You are using the default legacy behaviour of the <class 'transformers.models.t5.tokenization_t5.T5Tokenizer'>. This is expected, and simply means that the `legacy` (previous) behavior will be used so nothing changes for you. If you want to use the new behaviour, set `legacy=False`. This should only be set if you understand what it means, and thouroughly read the reason why this was added as explained in https://github.com/huggingface/transformers/pull/24565\n",
            "/usr/local/lib/python3.10/dist-packages/transformers/convert_slow_tokenizer.py:473: UserWarning: The sentencepiece tokenizer that you are converting to a fast tokenizer uses the byte fallback option which is not implemented in the fast tokenizers. In practice this means that the fast version of the tokenizer can produce unknown tokens whereas the sentencepiece version would have converted these unknown tokens into a sequence of byte tokens matching the original piece of text.\n",
            "  warnings.warn(\n"
          ]
        },
        {
          "output_type": "stream",
          "name": "stdout",
          "text": [
            "[{'summary_text': 'У США офіційно стартував чемпіонат Формула-1 у'}]\n"
          ]
        }
      ]
    },
    {
      "cell_type": "markdown",
      "source": [
        "# Summarization (csebuetnlp/mT5_multilingual_XLSum)\n",
        "link: https://huggingface.co/csebuetnlp/mT5_multilingual_XLSum"
      ],
      "metadata": {
        "id": "UOcwsJ2_rYm-"
      }
    },
    {
      "cell_type": "code",
      "source": [
        "summarizer = pipeline(\"summarization\", \"csebuetnlp/mT5_multilingual_XLSum\")\n",
        "\n",
        "text = \"Формула-1 (F1) - це найвищий клас міжнародних автомобільних гонок, який залучає найбільш технічно розвинені та швидкі боліди. Офіційний чемпіонат F1 вперше стартував у 1950 році і став одним із найпопулярніших та найпрестижніших моторспортивних подій у світі.\"\n",
        "summary = summarizer(text, min_length=3, max_length = 16)\n",
        "print(summary)"
      ],
      "metadata": {
        "colab": {
          "base_uri": "https://localhost:8080/"
        },
        "id": "rLWfhzYOp416",
        "outputId": "cfde32ff-0326-49c9-efae-e1fc1231e5a5"
      },
      "execution_count": 3,
      "outputs": [
        {
          "output_type": "stream",
          "name": "stderr",
          "text": [
            "You are using the default legacy behaviour of the <class 'transformers.models.t5.tokenization_t5.T5Tokenizer'>. This is expected, and simply means that the `legacy` (previous) behavior will be used so nothing changes for you. If you want to use the new behaviour, set `legacy=False`. This should only be set if you understand what it means, and thouroughly read the reason why this was added as explained in https://github.com/huggingface/transformers/pull/24565\n",
            "/usr/local/lib/python3.10/dist-packages/transformers/convert_slow_tokenizer.py:473: UserWarning: The sentencepiece tokenizer that you are converting to a fast tokenizer uses the byte fallback option which is not implemented in the fast tokenizers. In practice this means that the fast version of the tokenizer can produce unknown tokens whereas the sentencepiece version would have converted these unknown tokens into a sequence of byte tokens matching the original piece of text.\n",
            "  warnings.warn(\n"
          ]
        },
        {
          "output_type": "stream",
          "name": "stdout",
          "text": [
            "[{'summary_text': 'У Лос-Анджелесі відбувається офіційний чемпі'}]\n"
          ]
        }
      ]
    },
    {
      "cell_type": "markdown",
      "source": [
        "# Morphological features (uk-morph)\n",
        "link: https://huggingface.co/ukr-models/uk-morph"
      ],
      "metadata": {
        "id": "5pJaR14CsKP1"
      }
    },
    {
      "cell_type": "code",
      "source": [
        "morph = pipeline(\"token-classification\", 'ukr-models/uk-morph')\n",
        "text = \"Могила Тараса Шевченка — місце поховання видатного українського поета Тараса Шевченка в місті Канів (Черкаська область) на Чернечій горі, над яким із 1939 року височіє бронзовий пам'ятник роботи скульптора Матвія Манізера.\"\n",
        "result = morph(text)\n",
        "print(result)"
      ],
      "metadata": {
        "colab": {
          "base_uri": "https://localhost:8080/"
        },
        "id": "It-0Y0bPriCD",
        "outputId": "b02d0ace-88b0-4ead-e530-29a08521f962"
      },
      "execution_count": 10,
      "outputs": [
        {
          "output_type": "stream",
          "name": "stderr",
          "text": [
            "Asking to truncate to max_length but no maximum length is provided and the model has no predefined maximum length. Default to no truncation.\n"
          ]
        },
        {
          "output_type": "stream",
          "name": "stdout",
          "text": [
            "[{'entity': 'NOUN__Animacy=Inan|Case=Nom|Gender=Fem|Number=Sing', 'score': 0.99999297, 'index': 1, 'word': '▁Могил', 'start': 0, 'end': 5}, {'entity': 'NOUN__Animacy=Inan|Case=Nom|Gender=Fem|Number=Sing', 'score': 0.999992, 'index': 2, 'word': 'а', 'start': 5, 'end': 6}, {'entity': 'PROPN__Animacy=Anim|Case=Gen|Gender=Masc|NameType=Giv|Number=Sing', 'score': 0.99999285, 'index': 3, 'word': '▁Тарас', 'start': 6, 'end': 12}, {'entity': 'PROPN__Animacy=Anim|Case=Gen|Gender=Masc|NameType=Giv|Number=Sing', 'score': 0.99999356, 'index': 4, 'word': 'а', 'start': 12, 'end': 13}, {'entity': 'PROPN__Animacy=Anim|Case=Gen|Gender=Masc|NameType=Sur|Number=Sing', 'score': 0.9999852, 'index': 5, 'word': '▁Шевченка', 'start': 13, 'end': 22}, {'entity': 'PUNCT__PunctType=Dash', 'score': 0.9999999, 'index': 6, 'word': '▁—', 'start': 22, 'end': 24}, {'entity': 'NOUN__Animacy=Inan|Case=Nom|Gender=Neut|Number=Sing', 'score': 0.9998995, 'index': 7, 'word': '▁місце', 'start': 24, 'end': 30}, {'entity': 'NOUN__Animacy=Inan|Case=Gen|Gender=Neut|Number=Sing', 'score': 0.9999976, 'index': 8, 'word': '▁по', 'start': 30, 'end': 33}, {'entity': 'NOUN__Animacy=Inan|Case=Gen|Gender=Neut|Number=Sing', 'score': 0.9999976, 'index': 9, 'word': 'хо', 'start': 33, 'end': 35}, {'entity': 'NOUN__Animacy=Inan|Case=Gen|Gender=Neut|Number=Sing', 'score': 0.9999981, 'index': 10, 'word': 'вання', 'start': 35, 'end': 40}, {'entity': 'ADJ__Case=Gen|Degree=Pos|Gender=Masc|Number=Sing', 'score': 0.99996936, 'index': 11, 'word': '▁видат', 'start': 40, 'end': 46}, {'entity': 'ADJ__Case=Gen|Degree=Pos|Gender=Masc|Number=Sing', 'score': 0.9999715, 'index': 12, 'word': 'ного', 'start': 46, 'end': 50}, {'entity': 'ADJ__Case=Gen|Gender=Masc|Number=Sing', 'score': 0.9999671, 'index': 13, 'word': '▁українського', 'start': 50, 'end': 63}, {'entity': 'NOUN__Animacy=Anim|Case=Gen|Gender=Masc|Number=Sing', 'score': 0.9999964, 'index': 14, 'word': '▁по', 'start': 63, 'end': 66}, {'entity': 'NOUN__Animacy=Anim|Case=Gen|Gender=Masc|Number=Sing', 'score': 0.9999969, 'index': 15, 'word': 'ета', 'start': 66, 'end': 69}, {'entity': 'PROPN__Animacy=Anim|Case=Gen|Gender=Masc|NameType=Giv|Number=Sing', 'score': 0.9999932, 'index': 16, 'word': '▁Тарас', 'start': 69, 'end': 75}, {'entity': 'PROPN__Animacy=Anim|Case=Gen|Gender=Masc|NameType=Giv|Number=Sing', 'score': 0.9999938, 'index': 17, 'word': 'а', 'start': 75, 'end': 76}, {'entity': 'PROPN__Animacy=Anim|Case=Gen|Gender=Masc|NameType=Sur|Number=Sing', 'score': 0.99998045, 'index': 18, 'word': '▁Шевченка', 'start': 76, 'end': 85}, {'entity': 'ADP__Case=Loc', 'score': 0.9999987, 'index': 19, 'word': '▁в', 'start': 85, 'end': 87}, {'entity': 'NOUN__Animacy=Inan|Case=Loc|Gender=Neut|Number=Sing', 'score': 0.999503, 'index': 20, 'word': '▁місті', 'start': 87, 'end': 93}, {'entity': 'PROPN__Animacy=Inan|Case=Nom|Gender=Masc|Number=Sing', 'score': 0.999724, 'index': 21, 'word': '▁Кан', 'start': 93, 'end': 97}, {'entity': 'PROPN__Animacy=Inan|Case=Nom|Gender=Masc|Number=Sing', 'score': 0.99964225, 'index': 22, 'word': 'ів', 'start': 97, 'end': 99}, {'entity': 'PUNCT', 'score': 0.99999547, 'index': 23, 'word': '▁(', 'start': 99, 'end': 101}, {'entity': 'ADJ__Case=Nom|Gender=Fem|Number=Sing', 'score': 0.99991393, 'index': 24, 'word': 'Чер', 'start': 101, 'end': 104}, {'entity': 'ADJ__Case=Nom|Gender=Fem|Number=Sing', 'score': 0.9999256, 'index': 25, 'word': 'ка', 'start': 104, 'end': 106}, {'entity': 'ADJ__Case=Nom|Gender=Fem|Number=Sing', 'score': 0.99995315, 'index': 26, 'word': 'ська', 'start': 106, 'end': 110}, {'entity': 'NOUN__Animacy=Inan|Case=Nom|Gender=Fem|Number=Sing', 'score': 0.999992, 'index': 27, 'word': '▁область', 'start': 110, 'end': 118}, {'entity': 'PUNCT', 'score': 0.99999857, 'index': 28, 'word': ')', 'start': 118, 'end': 119}, {'entity': 'ADP__Case=Loc', 'score': 0.999997, 'index': 29, 'word': '▁на', 'start': 119, 'end': 122}, {'entity': 'ADJ__Case=Loc|Gender=Fem|Number=Sing', 'score': 0.99998176, 'index': 30, 'word': '▁Черн', 'start': 122, 'end': 127}, {'entity': 'ADJ__Case=Loc|Gender=Fem|Number=Sing', 'score': 0.9999771, 'index': 31, 'word': 'е', 'start': 127, 'end': 128}, {'entity': 'ADJ__Case=Loc|Gender=Fem|Number=Sing', 'score': 0.9999826, 'index': 32, 'word': 'чі', 'start': 128, 'end': 130}, {'entity': 'ADJ__Case=Loc|Gender=Fem|Number=Sing', 'score': 0.99997807, 'index': 33, 'word': 'й', 'start': 130, 'end': 131}, {'entity': 'NOUN__Animacy=Inan|Case=Loc|Gender=Fem|Number=Sing', 'score': 0.9999888, 'index': 34, 'word': '▁гор', 'start': 131, 'end': 135}, {'entity': 'NOUN__Animacy=Inan|Case=Loc|Gender=Fem|Number=Sing', 'score': 0.9999877, 'index': 35, 'word': 'і', 'start': 135, 'end': 136}, {'entity': 'PUNCT', 'score': 0.99999905, 'index': 36, 'word': ',', 'start': 136, 'end': 137}, {'entity': 'ADP__Case=Ins', 'score': 0.9999932, 'index': 37, 'word': '▁над', 'start': 137, 'end': 141}, {'entity': 'DET__Case=Ins|Gender=Masc|Number=Sing|PronType=Rel', 'score': 0.982511, 'index': 38, 'word': '▁яким', 'start': 141, 'end': 146}, {'entity': 'ADP__Case=Gen', 'score': 0.9999987, 'index': 39, 'word': '▁із', 'start': 146, 'end': 149}, {'entity': 'ADJ__Case=Gen|Gender=Masc|Number=Sing|NumType=Ord|Uninflect=Yes', 'score': 0.99999034, 'index': 40, 'word': '▁1939', 'start': 149, 'end': 154}, {'entity': 'NOUN__Animacy=Inan|Case=Gen|Gender=Masc|Number=Sing', 'score': 0.99999833, 'index': 41, 'word': '▁року', 'start': 154, 'end': 159}, {'entity': 'VERB__Aspect=Imp|Mood=Ind|Number=Sing|Person=3|Tense=Pres|VerbForm=Fin', 'score': 0.99999917, 'index': 42, 'word': '▁вис', 'start': 159, 'end': 163}, {'entity': 'VERB__Aspect=Imp|Mood=Ind|Number=Sing|Person=3|Tense=Pres|VerbForm=Fin', 'score': 0.9999993, 'index': 43, 'word': 'оч', 'start': 163, 'end': 165}, {'entity': 'VERB__Aspect=Imp|Mood=Ind|Number=Sing|Person=3|Tense=Pres|VerbForm=Fin', 'score': 0.9999988, 'index': 44, 'word': 'іє', 'start': 165, 'end': 167}, {'entity': 'ADJ__Case=Nom|Gender=Masc|Number=Sing', 'score': 0.9999963, 'index': 45, 'word': '▁бронз', 'start': 167, 'end': 173}, {'entity': 'ADJ__Case=Nom|Gender=Masc|Number=Sing', 'score': 0.9999957, 'index': 46, 'word': 'овий', 'start': 173, 'end': 177}, {'entity': 'NOUN__Animacy=Inan|Case=Nom|Gender=Masc|Number=Sing', 'score': 0.9999846, 'index': 47, 'word': '▁пам', 'start': 177, 'end': 181}, {'entity': 'NOUN__Animacy=Inan|Case=Nom|Gender=Masc|Number=Sing', 'score': 0.9999832, 'index': 48, 'word': \"'\", 'start': 181, 'end': 182}, {'entity': 'NOUN__Animacy=Inan|Case=Nom|Gender=Masc|Number=Sing', 'score': 0.99998224, 'index': 49, 'word': 'ят', 'start': 182, 'end': 184}, {'entity': 'NOUN__Animacy=Inan|Case=Nom|Gender=Masc|Number=Sing', 'score': 0.9999876, 'index': 50, 'word': 'ник', 'start': 184, 'end': 187}, {'entity': 'NOUN__Animacy=Inan|Case=Gen|Gender=Fem|Number=Sing', 'score': 0.99999845, 'index': 51, 'word': '▁роботи', 'start': 187, 'end': 194}, {'entity': 'NOUN__Animacy=Anim|Case=Gen|Gender=Masc|Number=Sing', 'score': 0.99999225, 'index': 52, 'word': '▁ск', 'start': 194, 'end': 197}, {'entity': 'NOUN__Animacy=Anim|Case=Gen|Gender=Masc|Number=Sing', 'score': 0.9999927, 'index': 53, 'word': 'уль', 'start': 197, 'end': 200}, {'entity': 'NOUN__Animacy=Anim|Case=Gen|Gender=Masc|Number=Sing', 'score': 0.9999932, 'index': 54, 'word': 'п', 'start': 200, 'end': 201}, {'entity': 'NOUN__Animacy=Anim|Case=Gen|Gender=Masc|Number=Sing', 'score': 0.9999925, 'index': 55, 'word': 'тора', 'start': 201, 'end': 205}, {'entity': 'PROPN__Animacy=Anim|Case=Gen|Gender=Masc|NameType=Giv|Number=Sing', 'score': 0.99995863, 'index': 56, 'word': '▁Мат', 'start': 205, 'end': 209}, {'entity': 'PROPN__Animacy=Anim|Case=Gen|Gender=Masc|NameType=Giv|Number=Sing', 'score': 0.99995375, 'index': 57, 'word': 'ві', 'start': 209, 'end': 211}, {'entity': 'PROPN__Animacy=Anim|Case=Gen|Gender=Masc|NameType=Giv|Number=Sing', 'score': 0.9999577, 'index': 58, 'word': 'я', 'start': 211, 'end': 212}, {'entity': 'PROPN__Animacy=Anim|Case=Gen|Gender=Masc|NameType=Sur|Number=Sing', 'score': 0.999928, 'index': 59, 'word': '▁Ма', 'start': 212, 'end': 215}, {'entity': 'PROPN__Animacy=Anim|Case=Gen|Gender=Masc|NameType=Sur|Number=Sing', 'score': 0.9999213, 'index': 60, 'word': 'ніз', 'start': 215, 'end': 218}, {'entity': 'PROPN__Animacy=Anim|Case=Gen|Gender=Masc|NameType=Sur|Number=Sing', 'score': 0.99990904, 'index': 61, 'word': 'ера', 'start': 218, 'end': 221}, {'entity': 'PUNCT', 'score': 0.9999896, 'index': 62, 'word': '.', 'start': 221, 'end': 222}]\n"
          ]
        }
      ]
    },
    {
      "cell_type": "markdown",
      "source": [
        "# Punctuation recover (ukr-models/uk-punctcase)\n",
        "link: https://huggingface.co/ukr-models/uk-punctcase"
      ],
      "metadata": {
        "id": "ltwCMQaIvpgi"
      }
    },
    {
      "cell_type": "code",
      "source": [
        "punct = pipeline(\"token-classification\", \"ukr-models/uk-punctcase\")\n",
        "\n",
        "text = \"А так ось що це означає так би відразу і сказав би А то без цієї інформації складно\"\n",
        "result = punct(text)\n",
        "print(result)"
      ],
      "metadata": {
        "colab": {
          "base_uri": "https://localhost:8080/"
        },
        "id": "vXfzEA3swGdS",
        "outputId": "1afb79f7-c279-4e05-d179-ba23b6ce9d08"
      },
      "execution_count": 9,
      "outputs": [
        {
          "output_type": "stream",
          "name": "stderr",
          "text": [
            "Asking to truncate to max_length but no maximum length is provided and the model has no predefined maximum length. Default to no truncation.\n"
          ]
        },
        {
          "output_type": "stream",
          "name": "stdout",
          "text": [
            "[{'entity': 'AAO', 'score': 0.99829537, 'index': 1, 'word': '▁А', 'start': 0, 'end': 1}, {'entity': 'aa,', 'score': 0.64233357, 'index': 2, 'word': '▁так', 'start': 1, 'end': 5}, {'entity': 'aaO', 'score': 0.8264677, 'index': 3, 'word': '▁ось', 'start': 5, 'end': 9}, {'entity': 'aaO', 'score': 0.9992335, 'index': 4, 'word': '▁що', 'start': 9, 'end': 12}, {'entity': 'aaO', 'score': 0.9993044, 'index': 5, 'word': '▁це', 'start': 12, 'end': 15}, {'entity': 'aa,', 'score': 0.3808694, 'index': 6, 'word': '▁означає', 'start': 15, 'end': 23}, {'entity': 'AaO', 'score': 0.5265296, 'index': 7, 'word': '▁так', 'start': 23, 'end': 27}, {'entity': 'aaO', 'score': 0.9605105, 'index': 8, 'word': '▁би', 'start': 27, 'end': 30}, {'entity': 'aaO', 'score': 0.98833907, 'index': 9, 'word': '▁відразу', 'start': 30, 'end': 38}, {'entity': 'aaO', 'score': 0.9990113, 'index': 10, 'word': '▁і', 'start': 38, 'end': 40}, {'entity': 'aaO', 'score': 0.9987218, 'index': 11, 'word': '▁сказав', 'start': 40, 'end': 47}, {'entity': 'aa.', 'score': 0.9574021, 'index': 12, 'word': '▁би', 'start': 47, 'end': 50}, {'entity': 'AAO', 'score': 0.9862884, 'index': 13, 'word': '▁А', 'start': 50, 'end': 52}, {'entity': 'aaO', 'score': 0.99609524, 'index': 14, 'word': '▁то', 'start': 52, 'end': 55}, {'entity': 'aaO', 'score': 0.99983156, 'index': 15, 'word': '▁без', 'start': 55, 'end': 59}, {'entity': 'aaO', 'score': 0.9997999, 'index': 16, 'word': '▁цієї', 'start': 59, 'end': 64}, {'entity': 'aaO', 'score': 0.89066553, 'index': 17, 'word': '▁інформації', 'start': 64, 'end': 75}, {'entity': 'aa.', 'score': 0.8272505, 'index': 18, 'word': '▁склад', 'start': 75, 'end': 81}, {'entity': 'aa.', 'score': 0.8211959, 'index': 19, 'word': 'но', 'start': 81, 'end': 83}]\n"
          ]
        }
      ]
    },
    {
      "cell_type": "markdown",
      "source": [
        "# Fill mask (bert-base-multilingual-cased)\n",
        "link: https://huggingface.co/bert-base-multilingual-cased"
      ],
      "metadata": {
        "id": "_sK8r_fasdhM"
      }
    },
    {
      "cell_type": "code",
      "source": [
        "unmasker = pipeline('fill-mask', model='bert-base-multilingual-cased')\n",
        "\n",
        "text = \"Як поживаєш? Останнім часом [MASK] тебе не [MASK].\"\n",
        "unmasker(text)"
      ],
      "metadata": {
        "colab": {
          "base_uri": "https://localhost:8080/"
        },
        "id": "ja7t1mOKxzi4",
        "outputId": "f085564c-744e-4c2b-ed51-5e6b79f1b742"
      },
      "execution_count": 12,
      "outputs": [
        {
          "output_type": "stream",
          "name": "stderr",
          "text": [
            "Some weights of the model checkpoint at bert-base-multilingual-cased were not used when initializing BertForMaskedLM: ['bert.pooler.dense.weight', 'bert.pooler.dense.bias', 'cls.seq_relationship.weight', 'cls.seq_relationship.bias']\n",
            "- This IS expected if you are initializing BertForMaskedLM from the checkpoint of a model trained on another task or with another architecture (e.g. initializing a BertForSequenceClassification model from a BertForPreTraining model).\n",
            "- This IS NOT expected if you are initializing BertForMaskedLM from the checkpoint of a model that you expect to be exactly identical (initializing a BertForSequenceClassification model from a BertForSequenceClassification model).\n"
          ]
        },
        {
          "output_type": "execute_result",
          "data": {
            "text/plain": [
              "[[{'score': 0.14739638566970825,\n",
              "   'token': 10122,\n",
              "   'token_str': 'на',\n",
              "   'sequence': '[CLS] Як поживаєш? Останнім часом на тебе не [MASK]. [SEP]'},\n",
              "  {'score': 0.1133793368935585,\n",
              "   'token': 560,\n",
              "   'token_str': 'у',\n",
              "   'sequence': '[CLS] Як поживаєш? Останнім часом у тебе не [MASK]. [SEP]'},\n",
              "  {'score': 0.06357311457395554,\n",
              "   'token': 548,\n",
              "   'token_str': 'з',\n",
              "   'sequence': '[CLS] Як поживаєш? Останнім часом з тебе не [MASK]. [SEP]'},\n",
              "  {'score': 0.061050042510032654,\n",
              "   'token': 543,\n",
              "   'token_str': 'в',\n",
              "   'sequence': '[CLS] Як поживаєш? Останнім часом в тебе не [MASK]. [SEP]'},\n",
              "  {'score': 0.04823081195354462,\n",
              "   'token': 10344,\n",
              "   'token_str': 'до',\n",
              "   'sequence': '[CLS] Як поживаєш? Останнім часом до тебе не [MASK]. [SEP]'}],\n",
              " [{'score': 0.08929218351840973,\n",
              "   'token': 12123,\n",
              "   'token_str': 'так',\n",
              "   'sequence': '[CLS] Як поживаєш? Останнім часом [MASK] тебе не так. [SEP]'},\n",
              "  {'score': 0.06106521934270859,\n",
              "   'token': 11955,\n",
              "   'token_str': 'було',\n",
              "   'sequence': '[CLS] Як поживаєш? Останнім часом [MASK] тебе не було. [SEP]'},\n",
              "  {'score': 0.022058578208088875,\n",
              "   'token': 67593,\n",
              "   'token_str': 'існує',\n",
              "   'sequence': '[CLS] Як поживаєш? Останнім часом [MASK] тебе не існує. [SEP]'},\n",
              "  {'score': 0.019103147089481354,\n",
              "   'token': 26068,\n",
              "   'token_str': 'більше',\n",
              "   'sequence': '[CLS] Як поживаєш? Останнім часом [MASK] тебе не більше. [SEP]'},\n",
              "  {'score': 0.017380613833665848,\n",
              "   'token': 90526,\n",
              "   'token_str': 'говорить',\n",
              "   'sequence': '[CLS] Як поживаєш? Останнім часом [MASK] тебе не говорить. [SEP]'}]]"
            ]
          },
          "metadata": {},
          "execution_count": 12
        }
      ]
    }
  ]
}